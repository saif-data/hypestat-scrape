{
 "cells": [
  {
   "cell_type": "code",
   "execution_count": 135,
   "metadata": {
    "collapsed": false
   },
   "outputs": [
    {
     "name": "stdout",
     "output_type": "stream",
     "text": [
      "(1602270, 3941580)\n"
     ]
    }
   ],
   "source": [
    "import sys\n",
    "sys.path.append('/Users/saiffarooqui/anaconda/lib/python2.7/site-packages/mechanize-0.2.5-py2.7.egg')\n",
    "import mechanize\n",
    "\n",
    "import cookielib\n",
    "import xml.etree.ElementTree as ET\n",
    "import re\n",
    "import pandas as pd\n",
    "\n",
    "sys.path.append('/Users/saiffarooqui/anaconda/lib/python2.7/site-packages/BeautifulSoup-3.2.1-py2.7.egg')\n",
    "from BeautifulSoup import BeautifulSoup\n",
    "\n",
    "def hypestatscraper(site):\n",
    "    \"\"\"\n",
    "    Takes a site url, scrapes that site's Alexa page,\n",
    "    and returns the site's global Alexa rank and the\n",
    "    change in that rank over the past three months.\n",
    "    \"\"\"    \n",
    "    #Create HypeStat URL\n",
    "    url=\"http://\"+site+\".hypestat.com/\"\n",
    "\n",
    "    #Get HTML\n",
    "    cj = cookielib.CookieJar()\n",
    "    mech = mechanize.OpenerFactory().build_opener(mechanize.HTTPCookieProcessor(cj))\n",
    "    request = mechanize.Request(url)\n",
    "    response = mech.open(request)\n",
    "    html = response.read()\n",
    "\n",
    "    #Parse HTML with BeautifulSoup\n",
    "    soup = BeautifulSoup(html)\n",
    "    base = str(soup.find(\"div\", {\"class\":\"website_report_text\"}))\n",
    "    nohtml=''.join(ET.fromstring(base).itertext())\n",
    "    nocomma=nohtml.replace(',','')\n",
    "    metrics=[int(s) for s in nocomma.split() if s.isdigit()]\n",
    "    \"metrics=re.findall(r'\\d+', nocomma)\"\n",
    "    page_views=int(metrics[1]) * 30 \n",
    "    visitors=int(metrics[0]) *30 \n",
    "                   \n",
    "    return visitors, page_views\n",
    "\n",
    "site=\"www.khaleejtimes.com\"\n",
    "out=hypestatscraper(site)\n",
    "print out"
   ]
  },
  {
   "cell_type": "code",
   "execution_count": null,
   "metadata": {
    "collapsed": false
   },
   "outputs": [],
   "source": []
  },
  {
   "cell_type": "code",
   "execution_count": null,
   "metadata": {
    "collapsed": false
   },
   "outputs": [],
   "source": []
  },
  {
   "cell_type": "code",
   "execution_count": null,
   "metadata": {
    "collapsed": false
   },
   "outputs": [],
   "source": []
  },
  {
   "cell_type": "code",
   "execution_count": null,
   "metadata": {
    "collapsed": false
   },
   "outputs": [],
   "source": []
  },
  {
   "cell_type": "code",
   "execution_count": null,
   "metadata": {
    "collapsed": false
   },
   "outputs": [],
   "source": []
  },
  {
   "cell_type": "code",
   "execution_count": null,
   "metadata": {
    "collapsed": true
   },
   "outputs": [],
   "source": []
  },
  {
   "cell_type": "code",
   "execution_count": null,
   "metadata": {
    "collapsed": true
   },
   "outputs": [],
   "source": []
  }
 ],
 "metadata": {
  "kernelspec": {
   "display_name": "Python 2",
   "language": "python",
   "name": "python2"
  },
  "language_info": {
   "codemirror_mode": {
    "name": "ipython",
    "version": 2
   },
   "file_extension": ".py",
   "mimetype": "text/x-python",
   "name": "python",
   "nbconvert_exporter": "python",
   "pygments_lexer": "ipython2",
   "version": "2.7.10"
  }
 },
 "nbformat": 4,
 "nbformat_minor": 0
}
